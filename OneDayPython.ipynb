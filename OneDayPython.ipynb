{
 "cells": [
  {
   "cell_type": "markdown",
   "metadata": {},
   "source": [
    "## One Day Python Assignment\n",
    "This is the assignment intended to teach Python from the basics all the way to using Pandas Dataframes. It is not intended to be comprehensive, but rather a survey of the major topics to get the learner from point A to B.    \n",
    "   \n",
    "Part 1 will be worth 100 points and Part 2 will be worth 100 points. There will only be one assignment on Canvas worth 100 points. The final grade for this will be divided by 2 and rounded up.     \n",
    "So if you got 100 on Part 1 and 67 on Part 2, you will have 167 / 2 = 83.5. Extra credit is added onto Part 1, so, again: if you got 110 on Part 1 and 67 on Part 2, you will have 177 / 2 = 90."
   ]
  },
  {
   "cell_type": "markdown",
   "metadata": {},
   "source": [
    "### PART 1"
   ]
  },
  {
   "cell_type": "markdown",
   "metadata": {},
   "source": [
    " 1. Print “Hello World”  (2 pts)"
   ]
  },
  {
   "cell_type": "code",
   "execution_count": null,
   "metadata": {},
   "outputs": [],
   "source": [
    "print('Hello World')"
   ]
  },
  {
   "cell_type": "markdown",
   "metadata": {},
   "source": [
    "2.  Save your age to a variable called “age”    \n",
    "3.  Print “Hello World, I’m (age variable) today.”    (5 pts)"
   ]
  },
  {
   "cell_type": "code",
   "execution_count": null,
   "metadata": {},
   "outputs": [],
   "source": [
    "age = 4  \n",
    "\n",
    "print(f\"Hello World, I'm {age} today.\")"
   ]
  },
  {
   "cell_type": "markdown",
   "metadata": {},
   "source": [
    "4. Print “hello world” in all upper case using a Python string method to alter it (4 pts)"
   ]
  },
  {
   "cell_type": "code",
   "execution_count": null,
   "metadata": {},
   "outputs": [],
   "source": [
    "print('hello world'.upper());"
   ]
  },
  {
   "cell_type": "markdown",
   "metadata": {},
   "source": [
    " 5. Save any decimal in a variable called a.   \n",
    " Cast a into an int and save it as b.  \n",
    " Cast a into a string and save it as c.   \n",
    " Print each variable and its type.   (11 pts)"
   ]
  },
  {
   "cell_type": "code",
   "execution_count": null,
   "metadata": {},
   "outputs": [],
   "source": [
    "# Save any decimal in a variable called a.\n",
    "a = 3.14\n",
    "\n",
    "# Cast a into an int and save it as b.\n",
    "b = int(a)\n",
    "\n",
    "# Cast a into a string and save it as c.\n",
    "c = str(a)\n",
    "\n",
    "# Print each variable and its type.\n",
    "print(f\"a: {a}, type: {type(a)}\")\n",
    "print(f\"b: {b}, type: {type(b)}\")\n",
    "print(f\"c: '{c}', type: {type(c)}\")"
   ]
  },
  {
   "cell_type": "markdown",
   "metadata": {},
   "source": [
    "6. Create a tuple of your favorite things to eat and print it.   (4 pts)"
   ]
  },
  {
   "cell_type": "code",
   "execution_count": null,
   "metadata": {},
   "outputs": [],
   "source": [
    "tuple_favorite = ('Burger', 'Fries', 'MilkShake')\n",
    "print(tuple_favorite)"
   ]
  },
  {
   "cell_type": "markdown",
   "metadata": {},
   "source": [
    "7. Create a dictionary named ‘classes’ with the name of the classes you are taking as the keys and the professors names as the values. \n",
    "Print the dictionary and tuple.   (10 pts)"
   ]
  },
  {
   "cell_type": "code",
   "execution_count": null,
   "metadata": {},
   "outputs": [],
   "source": [
    "# Define the 'classes' dictionary\n",
    "classes = {\n",
    "    'Principles of Progamming Languages': 'Eric Loyd',\n",
    "    'Stochastic Proc/Random Signals': 'Aalo Valantine',\n",
    "    'Foundations of Cybersecurity': 'Survosee Chatterjee',\n",
    "    'Intro to Deep Learning': 'Behnaz Ghoraani '\n",
    "}\n",
    "\n",
    "# Print the dictionary\n",
    "print(\"Classes Dictionary:\", classes)"
   ]
  },
  {
   "cell_type": "markdown",
   "metadata": {},
   "source": []
  },
  {
   "cell_type": "markdown",
   "metadata": {},
   "source": [
    "8. Create a list called “whole” and put every number in it from 1 - 100  (10 pts)"
   ]
  },
  {
   "cell_type": "code",
   "execution_count": null,
   "metadata": {},
   "outputs": [],
   "source": [
    "whole = [i for i in range(1, 101)]"
   ]
  },
  {
   "cell_type": "markdown",
   "metadata": {},
   "source": []
  },
  {
   "cell_type": "markdown",
   "metadata": {},
   "source": [
    "9. Create 4 empty lists called ‘div2’, ‘div3’, ‘div4’, and ‘div5’       \n",
    "Create a loop that examines each number from 1 to 100 and:    \n",
    " If it is divisible by 2, put it in div2   (6 pts)    \n",
    " If it is divisible by 3, put it in div3   (6 pts)     \n",
    " If it is divisible by 4, put it in div4   (6 pts)    \n",
    " If it is divisible by 5, put it in div5   (6 pts)    \n",
    " Print all 5 of these lists"
   ]
  },
  {
   "cell_type": "code",
   "execution_count": null,
   "metadata": {},
   "outputs": [],
   "source": [
    "# Creating 4 empty lists\n",
    "div2, div3, div4, div5 = [], [], [], []\n",
    "\n",
    "# Looping through each number from 1 to 100\n",
    "for i in range(1, 101):\n",
    "    if i % 2 == 0:\n",
    "        div2.append(i)  # Add to div2 if divisible by 2\n",
    "    if i % 3 == 0:\n",
    "        div3.append(i)  # Add to div3 if divisible by 3\n",
    "    if i % 4 == 0:\n",
    "        div4.append(i)  # Add to div4 if divisible by 4\n",
    "    if i % 5 == 0:\n",
    "        div5.append(i)  # Add to div5 if divisible by 5\n",
    "\n",
    "# Printing all the lists\n",
    "print(\"div2:\", div2)\n",
    "print(\"div3:\", div3)\n",
    "print(\"div4:\", div4)\n",
    "print(\"div5:\", div5)"
   ]
  },
  {
   "cell_type": "markdown",
   "metadata": {},
   "source": [
    "10. Create a new list called “divOver5”   (3 pts)"
   ]
  },
  {
   "cell_type": "code",
   "execution_count": null,
   "metadata": {},
   "outputs": [],
   "source": [
    "diverOver5 = []"
   ]
  },
  {
   "cell_type": "markdown",
   "metadata": {},
   "source": [
    "11. Create a new loop that goes through each number 1 through 100 and appends it to divOver5 if it is NOT IN div2 or div3 or div4 or div5      \n",
    " You must use logical operators here.   \n",
    "Print divOver5   (10 points)    "
   ]
  },
  {
   "cell_type": "code",
   "execution_count": null,
   "metadata": {},
   "outputs": [],
   "source": [
    "# Looping through each number from 1 to 100\n",
    "for i in range(1, 101):\n",
    "    # Checking if the number is not in div2, div3, div4, or div5 using logical operators\n",
    "    if i not in div2 and i not in div3 and i not in div4 and i not in div5:\n",
    "        divOver5.append(i)\n",
    "\n",
    "# Printing the 'divOver5' list\n",
    "print(\"divOver5:\", divOver5)"
   ]
  },
  {
   "cell_type": "markdown",
   "metadata": {},
   "source": [
    "12. Create a function called exp3 that takes an int x, raises it to the third power.     \n",
    "Create a string in the function that says “x^3 = “ and concatenate x onto the end of the string.      \n",
    "Now return the string from the function.  Call the function exp3 and print what it returns.   (15 pts)"
   ]
  },
  {
   "cell_type": "code",
   "execution_count": null,
   "metadata": {},
   "outputs": [],
   "source": [
    "# Defining the function exp3\n",
    "def exp3(x):\n",
    "    # Calculating the third power of x\n",
    "    result = x ** 3\n",
    "    # Creating the string with the calculation and result\n",
    "    result_string = f\"{x}^3 = {result}\"\n",
    "    # Returning the string\n",
    "    return result_string\n",
    "\n",
    "# Calling the function exp3 with an example value and printing the result\n",
    "print(exp3(4))"
   ]
  },
  {
   "cell_type": "markdown",
   "metadata": {},
   "source": [
    "13. Iterate through the classes dictionary and print the keys    (5 pts)"
   ]
  },
  {
   "cell_type": "code",
   "execution_count": null,
   "metadata": {},
   "outputs": [],
   "source": [
    "for class_name in classes.keys():\n",
    "    print(class_name)"
   ]
  },
  {
   "cell_type": "markdown",
   "metadata": {},
   "source": [
    "14. Iterate through the classes dictionary and print the values   (5 pts)"
   ]
  },
  {
   "cell_type": "code",
   "execution_count": null,
   "metadata": {},
   "outputs": [],
   "source": [
    "for professor_name in classes.values():\n",
    "    print(professor_name)"
   ]
  },
  {
   "cell_type": "markdown",
   "metadata": {},
   "source": [
    "(Worth +10 points) Extra Points:   \n",
    "Create a class called Student that has the properties:    \n",
    "\tname (holds student name)    \n",
    "\tage (holds student age)    \n",
    "\tbirthmonth (hold students birthmonth)\n",
    "\t\n",
    "\tA count variable exists that is set to 0 (see lecture) and upon each call to the class this variable increments     \n",
    "\n",
    "\t2 functions in the class:  displayName which returns the name of the student and displayBirthmonth which returns the birth month of the student    \n",
    "\n",
    "\tNow create 3 students, use whatever data you want.       \n",
    "\tCall displayName() on student1     \n",
    "\tCall displayBirthmonth() on student2    \n",
    "\tprint the student count    \n"
   ]
  },
  {
   "cell_type": "code",
   "execution_count": null,
   "metadata": {},
   "outputs": [],
   "source": [
    "# Defining the Student class\n",
    "class Student:\n",
    "    # Class variable for counting the number of students\n",
    "    count = 0\n",
    "    \n",
    "    def __init__(self, name, age, birthmonth):\n",
    "        self.name = name\n",
    "        self.age = age\n",
    "        self.birthmonth = birthmonth\n",
    "        Student.count += 1  # Incrementing the count each time a new instance is created\n",
    "    \n",
    "    def displayName(self):\n",
    "        \"\"\"Returns the name of the student.\"\"\"\n",
    "        return self.name\n",
    "    \n",
    "    def displayBirthmonth(self):\n",
    "        \"\"\"Returns the birth month of the student.\"\"\"\n",
    "        return self.birthmonth\n",
    "\n",
    "# Creating 3 student instances\n",
    "student1 = Student(\"Alice\", 20, \"January\")\n",
    "student2 = Student(\"Bob\", 22, \"February\")\n",
    "student3 = Student(\"Charlie\", 21, \"March\")\n",
    "\n",
    "# Calling displayName() on student1\n",
    "print(\"Name of student1:\", student1.displayName())\n",
    "\n",
    "# Calling displayBirthmonth() on student2\n",
    "print(\"Birth month of student2:\", student2.displayBirthmonth())\n",
    "\n",
    "# Printing the student count\n",
    "print(\"Total student count:\", Student.count)"
   ]
  },
  {
   "cell_type": "markdown",
   "metadata": {},
   "source": [
    "### PART 2"
   ]
  },
  {
   "cell_type": "markdown",
   "metadata": {},
   "source": [
    "This part will require you to use the film_results.txt file provided on Canvas. You will also need to import NumPy and Pandas."
   ]
  },
  {
   "cell_type": "markdown",
   "metadata": {},
   "source": [
    "1. Move the film_results.txt file from Blackboard into your project directory.     \n",
    " Create 3 lists, one for states, one for shows, and one for viewers.     \n",
    " Ingest data from text file and put it into a NumPy array (show_results.txt)      \n",
    "\tItll look like a nested list.       \n",
    "          [ [‘Oregon’, ‘Once Upon a Time’, ‘4075’] [...] …]     \n",
    " Print the raw data   (10 pts)    "
   ]
  },
  {
   "cell_type": "code",
   "execution_count": null,
   "metadata": {},
   "outputs": [],
   "source": [
    "# Now that we have the correct 'film_results.txt' file, let's proceed with reading and processing it.\n",
    "\n",
    "# Define the path to the file\n",
    "file_path = '/mnt/data/film_results.txt'\n",
    "\n",
    "# Initialize lists for states, shows, and viewers\n",
    "states = []\n",
    "shows = []\n",
    "viewers = []\n",
    "\n",
    "# Read the file and split the data into the lists\n",
    "with open(file_path, 'r') as file:\n",
    "    for line in file:\n",
    "        state, show, viewer_count = line.strip().split(',')\n",
    "        states.append(state)\n",
    "        shows.append(show)\n",
    "        viewers.append(int(viewer_count))\n",
    "\n",
    "# Convert the lists into a NumPy array\n",
    "film_results_np = np.array([states, shows, viewers], dtype=object)\n",
    "\n",
    "# Nested list to mimic the nested list structure mentioned in the task\n",
    "nested_list = list(zip(states, shows, viewers))\n",
    "\n",
    "film_results_np, nested_list"
   ]
  },
  {
   "cell_type": "markdown",
   "metadata": {},
   "source": [
    "2.  Take the data from the NumPy array and sort it by state, show and viewers, putting each into the appropriate lists you defined earlier.  (so now you have 3 lists, one with states, one with shows and one with viewer counts.)  No duplicates in the states and shows.  Duplicates can and should exist in the viewers.      \n",
    "So the states list will look like this: ['Washington', 'Nevada', 'Idaho', 'California', 'Oregon']      \n",
    " Print these unsorted lists    (5 pts)"
   ]
  },
  {
   "cell_type": "code",
   "execution_count": null,
   "metadata": {},
   "outputs": [],
   "source": [
    "# The task now is to sort the data by state, show, and viewers, and put them into their respective lists.\n",
    "# We must ensure that there are no duplicates in the states and shows lists, but duplicates are allowed in the viewers list.\n",
    "\n",
    "# Convert the nested list into a structured array for easy sorting\n",
    "dtype = [('state', 'U50'), ('show', 'U50'), ('viewers', int)]\n",
    "structured_array = np.array(nested_list, dtype=dtype)\n",
    "\n",
    "# Now sort the array by state, then by show, and finally by viewer count\n",
    "sorted_array = np.sort(structured_array, order=['state', 'show', 'viewers'])\n",
    "\n",
    "# Extract unique states and shows\n",
    "unique_states = np.unique(sorted_array['state'])\n",
    "unique_shows = np.unique(sorted_array['show'])\n",
    "\n",
    "# We don't need to remove duplicates for viewers as they can have duplicates\n",
    "viewers_list = sorted_array['viewers'].tolist()\n",
    "\n",
    "unique_states.tolist(), unique_shows.tolist(), viewers_list[:5]  # Show the first 5 viewer counts to check"
   ]
  },
  {
   "cell_type": "markdown",
   "metadata": {},
   "source": [
    "3. Convert all 3 lists into NumPy arrays     \n",
    " print new NumPy Arrays    (10 pts)"
   ]
  },
  {
   "cell_type": "code",
   "execution_count": null,
   "metadata": {},
   "outputs": [],
   "source": [
    "# Convert the lists of states, shows, and viewers into NumPy arrays\n",
    "\n",
    "states_array = np.array(unique_states)\n",
    "shows_array = np.array(unique_shows)\n",
    "viewers_array = np.array(viewers_list)\n",
    "\n",
    "states_array, shows_array, viewers_array[:5]  # Show the first 5 viewer counts to check"
   ]
  },
  {
   "cell_type": "markdown",
   "metadata": {},
   "source": [
    "4. Sort the States and Shows arrays      \n",
    "\tNow your States array will look like:      \n",
    "\t['California', 'Idaho', 'Nevada', 'Oregon', 'Washington']      \n",
    "Convert the Viewers array from STRINGS into INTS      \n",
    "Sum up viewers list into one variable (you can do this in one line)       \n",
    "Print: Sorted arrays (states and shows), viewers list (as ints), and the variable that is the sum of the viewers list.        (30 pts)"
   ]
  },
  {
   "cell_type": "code",
   "execution_count": null,
   "metadata": {},
   "outputs": [],
   "source": [
    "# The states and shows arrays are already sorted and do not contain duplicates. We can verify this.\n",
    "sorted_states_array = np.sort(states_array)\n",
    "sorted_shows_array = np.sort(shows_array)\n",
    "\n",
    "# The viewers array is already of type int, so we don't need to convert it.\n",
    "# Sum up the viewers list into one variable\n",
    "total_viewers = np.sum(viewers_array)\n",
    "\n",
    "sorted_states_array, sorted_shows_array, total_viewers"
   ]
  },
  {
   "cell_type": "markdown",
   "metadata": {},
   "source": [
    "5. Create 2 DataFrames:      \n",
    "show_raw_stats: index = numpy sorted array of SHOWS; columns = numpy sorted array of STATES      \n",
    "show_agg_stats: index = same as above; columns= a list with the words Max, Min, Totals and Percent in it (like this… [‘Max’,’Min’,’Totals’, ‘Percent’]        \n",
    "Populate show_raw_stats with data from the Original Array ingested from film_results.txt. \n",
    "Populate the Max, Min, Totals, and Percent in show_agg_stats using the DataFrame native functionality    \n",
    "Print both dataframe   (30 pts)     \n",
    "\n",
    "HINT:  You will need to create a loop here that basically goes the length of the original array, and on each iteration, it grabs the STATE, SHOW, and VIEWERS number (itll be a string so youll have to convert it…).    \n",
    "The final step of each iteration will be placing it in the dataframe in the correct spot as an accumulation. +=      (Otherwise you just writing over the value there)     \n"
   ]
  },
  {
   "cell_type": "code",
   "execution_count": null,
   "metadata": {},
   "outputs": [],
   "source": [
    "# Create DataFrame from the structured array\n",
    "df = pd.DataFrame(structured_array)\n",
    "\n",
    "# Create the 'show_raw_stats' DataFrame with shows as index and states as columns\n",
    "# For each show and state, we take the first occurrence of viewers count\n",
    "show_raw_stats = df.pivot_table(index='show', columns='state', values='viewers', aggfunc='first')\n",
    "\n",
    "# Now create the 'show_agg_stats' DataFrame\n",
    "# Calculate the aggregate values for each show\n",
    "show_agg_stats = df.groupby('show')['viewers'].agg(['max', 'min', 'sum'])\n",
    "# Calculate the percentage of total viewers for each show\n",
    "show_agg_stats['percent'] = (show_agg_stats['sum'] / total_viewers) * 100\n",
    "\n",
    "# Rename the columns as required\n",
    "show_agg_stats.columns = ['Max', 'Min', 'Totals', 'Percent']\n",
    "\n",
    "show_raw_stats, show_agg_stats"
   ]
  },
  {
   "cell_type": "markdown",
   "metadata": {},
   "source": [
    "6. Print the answer to these questions in a Markdown cell, do not print them with Python:        \n",
    "Which Show has the highest percentage?   (5 pts)      \n",
    "Which Show has the lowest percentage?    (5 pts)     \n",
    "Which show is your favorite?             (5 pts)     "
   ]
  },
  {
   "cell_type": "markdown",
   "metadata": {},
   "source": []
  },
  {
   "cell_type": "code",
   "execution_count": null,
   "metadata": {},
   "outputs": [],
   "source": [
    "# Let's find out which show has the highest and lowest percentage of viewers\n",
    "highest_percentage_show = show_agg_stats['Percent'].idxmax()\n",
    "lowest_percentage_show = show_agg_stats['Percent'].idxmin()\n",
    "better_call_saul_data = df[df['show'] == 'Better Call Saul']\n",
    "\n",
    "\n",
    "\n",
    "highest_percentage_show, lowest_percentage_show, better_call_saul_data"
   ]
  },
  {
   "cell_type": "markdown",
   "metadata": {},
   "source": [
    "### Please try to follow the directions as closely as possible.  You might think of better ways to implement this, with less lines of code the skips steps and thats great, but not for this assignment.  If you do think of these, put them in comments and extra points will be given for those but follow these steps."
   ]
  },
  {
   "cell_type": "markdown",
   "metadata": {},
   "source": []
  }
 ],
 "metadata": {
  "kernelspec": {
   "display_name": "base",
   "language": "python",
   "name": "python3"
  },
  "language_info": {
   "name": "python",
   "version": "3.9.7"
  }
 },
 "nbformat": 4,
 "nbformat_minor": 2
}
